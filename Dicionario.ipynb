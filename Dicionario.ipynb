{
  "nbformat": 4,
  "nbformat_minor": 0,
  "metadata": {
    "colab": {
      "provenance": [],
      "authorship_tag": "ABX9TyNu9/QZUBwXHwl+sHI0R+Kb",
      "include_colab_link": true
    },
    "kernelspec": {
      "name": "python3",
      "display_name": "Python 3"
    },
    "language_info": {
      "name": "python"
    }
  },
  "cells": [
    {
      "cell_type": "markdown",
      "metadata": {
        "id": "view-in-github",
        "colab_type": "text"
      },
      "source": [
        "<a href=\"https://colab.research.google.com/github/euBRASIL/Colab.Jupyter/blob/main/Dicionario.ipynb\" target=\"_parent\"><img src=\"https://colab.research.google.com/assets/colab-badge.svg\" alt=\"Open In Colab\"/></a>"
      ]
    },
    {
      "cell_type": "code",
      "execution_count": 4,
      "metadata": {
        "id": "I-va6qezLlg5"
      },
      "outputs": [],
      "source": [
        "chavePrivada = {\"200000000\" : \"000000000000000000000000000000000000000000000002000000000e8268e2c25\",\n",
        "                \"2ffffffff\" : \"000000000000000000000000000000000000000000000002fffffffff8747bb0NNp\"\n",
        "                }"
      ]
    },
    {
      "cell_type": "code",
      "source": [
        "chave = chavePrivada[\"200000000\"]\n",
        "print(chave)"
      ],
      "metadata": {
        "colab": {
          "base_uri": "https://localhost:8080/"
        },
        "id": "VkxOGDf2MdTy",
        "outputId": "6a1ddba9-cfe0-4051-b060-e4cceb963cfb"
      },
      "execution_count": 5,
      "outputs": [
        {
          "output_type": "stream",
          "name": "stdout",
          "text": [
            "000000000000000000000000000000000000000000000002000000000e8268e2c25\n"
          ]
        }
      ]
    },
    {
      "cell_type": "code",
      "source": [
        "chave = chavePrivada[\"2ffffffff\"]\n",
        "print(chave)"
      ],
      "metadata": {
        "colab": {
          "base_uri": "https://localhost:8080/"
        },
        "id": "MGFsVWhHQnqY",
        "outputId": "71250f32-f0e0-4bb3-8632-0a8e34c06cbc"
      },
      "execution_count": 6,
      "outputs": [
        {
          "output_type": "stream",
          "name": "stdout",
          "text": [
            "000000000000000000000000000000000000000000000002fffffffff8747bb0NNp\n"
          ]
        }
      ]
    },
    {
      "cell_type": "code",
      "source": [
        "for privada in chavePrivada:\n",
        "  print(privada)"
      ],
      "metadata": {
        "colab": {
          "base_uri": "https://localhost:8080/"
        },
        "id": "FKkucmlHQ2ln",
        "outputId": "4558c417-3a6d-4109-fe73-fc4a951b073f"
      },
      "execution_count": 7,
      "outputs": [
        {
          "output_type": "stream",
          "name": "stdout",
          "text": [
            "200000000\n",
            "2ffffffff\n"
          ]
        }
      ]
    },
    {
      "cell_type": "code",
      "source": [
        "print(chavePrivada.keys())"
      ],
      "metadata": {
        "colab": {
          "base_uri": "https://localhost:8080/"
        },
        "id": "NvP7BbBuRBD1",
        "outputId": "c48ec343-2daf-4263-942f-66e6e48559b6"
      },
      "execution_count": 10,
      "outputs": [
        {
          "output_type": "stream",
          "name": "stdout",
          "text": [
            "dict_keys(['200000000', '2ffffffff'])\n"
          ]
        }
      ]
    },
    {
      "cell_type": "code",
      "source": [
        "print(chavePrivada.values())"
      ],
      "metadata": {
        "colab": {
          "base_uri": "https://localhost:8080/"
        },
        "id": "1qgCv86iRS8t",
        "outputId": "538a50ee-6def-4bde-c676-3d643ed06ab7"
      },
      "execution_count": 11,
      "outputs": [
        {
          "output_type": "stream",
          "name": "stdout",
          "text": [
            "dict_values(['000000000000000000000000000000000000000000000002000000000e8268e2c25', '000000000000000000000000000000000000000000000002fffffffff8747bb0NNp'])\n"
          ]
        }
      ]
    },
    {
      "cell_type": "code",
      "source": [
        "chavePrivada.pop(\"200000000\")\n",
        "print(chavePrivada.keys())"
      ],
      "metadata": {
        "colab": {
          "base_uri": "https://localhost:8080/"
        },
        "id": "2jPAKJpHR9QU",
        "outputId": "6c776753-6bf7-495d-dc0d-193f870a4b8a"
      },
      "execution_count": 13,
      "outputs": [
        {
          "output_type": "stream",
          "name": "stdout",
          "text": [
            "dict_keys(['2ffffffff'])\n"
          ]
        }
      ]
    },
    {
      "cell_type": "code",
      "source": [
        "if \"200000000\" in chavePrivada.keys(): # Sintaxe : Se \"chave\" existe ? faça ou caso contrário não faça\n",
        "  print(\"Esta Chave Privda existe . . .\")\n",
        "else:\n",
        "  print(\"Esta Chave Privada foi apagada ...\")"
      ],
      "metadata": {
        "colab": {
          "base_uri": "https://localhost:8080/"
        },
        "id": "ZZWT3XJ9S2yn",
        "outputId": "1e3d869f-ed91-4059-c494-b221c6c09827"
      },
      "execution_count": 16,
      "outputs": [
        {
          "output_type": "stream",
          "name": "stdout",
          "text": [
            "Esta Chave Privada foi apagada ...\n"
          ]
        }
      ]
    },
    {
      "cell_type": "code",
      "source": [
        "if \"000000000000000000000000000000000000000000000002fffffffff8747bb0NNp\" in chavePrivada.values():\n",
        "  print(\"Esta Chave Privada foi *** validada ***\")\n",
        "else:\n",
        "  print(\"Esta Chave Privada não foi Minerada ...\")"
      ],
      "metadata": {
        "colab": {
          "base_uri": "https://localhost:8080/"
        },
        "id": "Lx7lYEmHTsj1",
        "outputId": "2d94b3db-d46e-4ec5-8b4a-071dd14769a1"
      },
      "execution_count": 17,
      "outputs": [
        {
          "output_type": "stream",
          "name": "stdout",
          "text": [
            "Esta Chave Privada foi *** validada ***\n"
          ]
        }
      ]
    }
  ]
}