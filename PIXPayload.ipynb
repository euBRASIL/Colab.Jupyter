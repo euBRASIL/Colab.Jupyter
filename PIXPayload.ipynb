{
  "nbformat": 4,
  "nbformat_minor": 0,
  "metadata": {
    "colab": {
      "provenance": [],
      "authorship_tag": "ABX9TyP7Bl+v65bxHJKWK+y1y6v/",
      "include_colab_link": true
    },
    "kernelspec": {
      "name": "python3",
      "display_name": "Python 3"
    },
    "language_info": {
      "name": "python"
    }
  },
  "cells": [
    {
      "cell_type": "markdown",
      "metadata": {
        "id": "view-in-github",
        "colab_type": "text"
      },
      "source": [
        "<a href=\"https://colab.research.google.com/github/euBRASIL/Colab.Jupyter/blob/main/PIXPayload.ipynb\" target=\"_parent\"><img src=\"https://colab.research.google.com/assets/colab-badge.svg\" alt=\"Open In Colab\"/></a>"
      ]
    },
    {
      "cell_type": "code",
      "execution_count": 1,
      "metadata": {
        "id": "uYECl-b6jss6",
        "colab": {
          "base_uri": "https://localhost:8080/"
        },
        "outputId": "400361f8-d379-4dad-a264-34ae3eebe274"
      },
      "outputs": [
        {
          "output_type": "stream",
          "name": "stdout",
          "text": [
            "Collecting crcmod\n",
            "  Downloading crcmod-1.7.tar.gz (89 kB)\n",
            "\u001b[2K     \u001b[90m━━━━━━━━━━━━━━━━━━━━━━━━━━━━━━━━━━━━━━━━\u001b[0m \u001b[32m89.7/89.7 kB\u001b[0m \u001b[31m2.0 MB/s\u001b[0m eta \u001b[36m0:00:00\u001b[0m\n",
            "\u001b[?25h  Preparing metadata (setup.py) ... \u001b[?25l\u001b[?25hdone\n",
            "Building wheels for collected packages: crcmod\n",
            "  Building wheel for crcmod (setup.py) ... \u001b[?25l\u001b[?25hdone\n",
            "  Created wheel for crcmod: filename=crcmod-1.7-cp310-cp310-linux_x86_64.whl size=31409 sha256=744c1b20fbf2be142b33506ce4a31414401b994223470d09a80e0da4ae63a7c3\n",
            "  Stored in directory: /root/.cache/pip/wheels/85/4c/07/72215c529bd59d67e3dac29711d7aba1b692f543c808ba9e86\n",
            "Successfully built crcmod\n",
            "Installing collected packages: crcmod\n",
            "Successfully installed crcmod-1.7\n"
          ]
        }
      ],
      "source": [
        "pip install crcmod"
      ]
    },
    {
      "cell_type": "code",
      "source": [
        "import crcmod"
      ],
      "metadata": {
        "id": "lT4dmiql4Wht"
      },
      "execution_count": 2,
      "outputs": []
    },
    {
      "cell_type": "code",
      "source": [
        "pip install qrcode"
      ],
      "metadata": {
        "colab": {
          "base_uri": "https://localhost:8080/"
        },
        "id": "U66iedTv4dNK",
        "outputId": "b5f05470-508c-47fc-d22f-3174034e33d3"
      },
      "execution_count": 3,
      "outputs": [
        {
          "output_type": "stream",
          "name": "stdout",
          "text": [
            "Collecting qrcode\n",
            "  Downloading qrcode-7.4.2-py3-none-any.whl (46 kB)\n",
            "\u001b[?25l     \u001b[90m━━━━━━━━━━━━━━━━━━━━━━━━━━━━━━━━━━━━━━━━\u001b[0m \u001b[32m0.0/46.2 kB\u001b[0m \u001b[31m?\u001b[0m eta \u001b[36m-:--:--\u001b[0m\r\u001b[2K     \u001b[90m━━━━━━━━━━━━━━━━━━━━━━━━━━━━━━━━━━━━━━━━\u001b[0m \u001b[32m46.2/46.2 kB\u001b[0m \u001b[31m1.3 MB/s\u001b[0m eta \u001b[36m0:00:00\u001b[0m\n",
            "\u001b[?25hRequirement already satisfied: typing-extensions in /usr/local/lib/python3.10/dist-packages (from qrcode) (4.5.0)\n",
            "Collecting pypng (from qrcode)\n",
            "  Downloading pypng-0.20220715.0-py3-none-any.whl (58 kB)\n",
            "\u001b[?25l     \u001b[90m━━━━━━━━━━━━━━━━━━━━━━━━━━━━━━━━━━━━━━━━\u001b[0m \u001b[32m0.0/58.1 kB\u001b[0m \u001b[31m?\u001b[0m eta \u001b[36m-:--:--\u001b[0m\r\u001b[2K     \u001b[90m━━━━━━━━━━━━━━━━━━━━━━━━━━━━━━━━━━━━━━━━\u001b[0m \u001b[32m58.1/58.1 kB\u001b[0m \u001b[31m3.3 MB/s\u001b[0m eta \u001b[36m0:00:00\u001b[0m\n",
            "\u001b[?25hInstalling collected packages: pypng, qrcode\n",
            "Successfully installed pypng-0.20220715.0 qrcode-7.4.2\n"
          ]
        }
      ]
    },
    {
      "cell_type": "code",
      "source": [
        "import qrcode"
      ],
      "metadata": {
        "id": "FMq8m2q-4moM"
      },
      "execution_count": 4,
      "outputs": []
    },
    {
      "cell_type": "code",
      "source": [
        "import os"
      ],
      "metadata": {
        "id": "dG7UU-w34p99"
      },
      "execution_count": 6,
      "outputs": []
    },
    {
      "cell_type": "code",
      "source": [
        "class Payload():\n",
        "    def __init__(self, nome, chavepix, valor, cidade, txtId, diretorio=''):\n",
        "\n",
        "        self.nome = nome\n",
        "        self.chavepix = chavepix\n",
        "        self.valor = valor.replace(',', '.')\n",
        "        self.cidade = cidade\n",
        "        self.txtId = txtId\n",
        "        self.diretorioQrCode = diretorio\n",
        "\n",
        "        self.nome_tam = len(self.nome)\n",
        "        self.chavepix_tam = len(self.chavepix)\n",
        "        self.valor_tam = len(self.valor)\n",
        "        self.cidade_tam = len(self.cidade)\n",
        "        self.txtId_tam = len(self.txtId)\n",
        "\n",
        "        self.merchantAccount_tam = f'0014BR.GOV.BCB.PIX01{self.chavepix_tam:02}{self.chavepix}'\n",
        "        self.transactionAmount_tam = f'{self.valor_tam:02}{float(self.valor):.2f}'\n",
        "\n",
        "        self.addDataField_tam = f'05{self.txtId_tam:02}{self.txtId}'\n",
        "\n",
        "        self.nome_tam = f'{self.nome_tam:02}'\n",
        "\n",
        "        self.cidade_tam = f'{self.cidade_tam:02}'\n",
        "\n",
        "        self.payloadFormat = '000201'\n",
        "        self.merchantAccount = f'26{len(self.merchantAccount_tam):02}{self.merchantAccount_tam}'\n",
        "        self.merchantCategCode = '52040000'\n",
        "        self.transactionCurrency = '5303986'\n",
        "        self.transactionAmount = f'54{self.transactionAmount_tam}'\n",
        "        self.countryCode = '5802BR'\n",
        "        self.merchantName = f'59{self.nome_tam:02}{self.nome}'\n",
        "        self.merchantCity = f'60{self.cidade_tam:02}{self.cidade}'\n",
        "        self.addDataField = f'62{len(self.addDataField_tam):02}{self.addDataField_tam}'\n",
        "        self.crc16 = '6304'\n"
      ],
      "metadata": {
        "id": "r1A8dZoL4x0o"
      },
      "execution_count": 7,
      "outputs": []
    },
    {
      "cell_type": "code",
      "source": [
        "    def gerarPayload(self):\n",
        "        self.payload = f'{self.payloadFormat}{self.merchantAccount}{self.merchantCategCode}{self.transactionCurrency}{self.transactionAmount}{self.countryCode}{self.merchantName}{self.merchantCity}{self.addDataField}{self.crc16}'\n",
        "\n",
        "        self.gerarCrc16(self.payload)"
      ],
      "metadata": {
        "id": "DAAISLXJ45e7"
      },
      "execution_count": 8,
      "outputs": []
    },
    {
      "cell_type": "code",
      "source": [
        "    def gerarCrc16(self, payload):\n",
        "        crc16 = crcmod.mkCrcFun(poly=0x11021, initCrc=0xFFFF, rev=False, xorOut=0x0000)\n",
        "\n",
        "        self.crc16Code = hex(crc16(str(payload).encode('utf-8')))\n",
        "\n",
        "        self.crc16Code_formatado = str(self.crc16Code).replace('0x', '').upper().zfill(4)\n",
        "\n",
        "        self.payload_completa = f'{payload}{self.crc16Code_formatado}'\n",
        "\n",
        "        self.gerarQrCode(self.payload_completa, self.diretorioQrCode)"
      ],
      "metadata": {
        "id": "S47AYWHg4-3y"
      },
      "execution_count": 9,
      "outputs": []
    },
    {
      "cell_type": "code",
      "source": [
        "    def gerarQrCode(self, payload, diretorio):\n",
        "        dir = os.path.expanduser(diretorio)\n",
        "        self.qrcode = qrcode.make(payload)\n",
        "        self.qrcode.save(os.path.join(dir, 'pixqrcodegen.png'))\n",
        "\n",
        "        return print(payload)"
      ],
      "metadata": {
        "id": "B3NV2VVa5DHP"
      },
      "execution_count": 10,
      "outputs": []
    },
    {
      "cell_type": "code",
      "source": [
        "import pprint"
      ],
      "metadata": {
        "id": "fpyjkRZZ5JtC"
      },
      "execution_count": 18,
      "outputs": []
    },
    {
      "cell_type": "code",
      "source": [
        "if __name__ == '__main__':\n",
        "    # 12345678900 seria o formato do CPF sem pontos e traços\n",
        "    PIXPayload = Payload('RicardoCosta', '13507674840', '1.00', 'SaoPaulo', 'LOJA01')\n",
        "    pprint.pprint(PIXPayload)"
      ],
      "metadata": {
        "colab": {
          "base_uri": "https://localhost:8080/"
        },
        "id": "-d0onK0y6Fd8",
        "outputId": "6e34c052-0e2e-4e48-b5af-73f8b61363b7"
      },
      "execution_count": 20,
      "outputs": [
        {
          "output_type": "stream",
          "name": "stdout",
          "text": [
            "<__main__.Payload object at 0x7ccb1264fe80>\n"
          ]
        }
      ]
    },
    {
      "cell_type": "code",
      "source": [],
      "metadata": {
        "colab": {
          "base_uri": "https://localhost:8080/",
          "height": 175
        },
        "id": "jqU5zPUF6Rc5",
        "outputId": "42c5e1e3-aefb-42df-dfb2-2fb5f70f602d"
      },
      "execution_count": 24,
      "outputs": [
        {
          "output_type": "error",
          "ename": "AttributeError",
          "evalue": "ignored",
          "traceback": [
            "\u001b[0;31m---------------------------------------------------------------------------\u001b[0m",
            "\u001b[0;31mAttributeError\u001b[0m                            Traceback (most recent call last)",
            "\u001b[0;32m<ipython-input-24-535066d4d36a>\u001b[0m in \u001b[0;36m<cell line: 1>\u001b[0;34m()\u001b[0m\n\u001b[0;32m----> 1\u001b[0;31m \u001b[0mpprint\u001b[0m\u001b[0;34m(\u001b[0m\u001b[0mPIXPayload\u001b[0m\u001b[0;34m.\u001b[0m\u001b[0mqrcode\u001b[0m\u001b[0;34m)\u001b[0m\u001b[0;34m\u001b[0m\u001b[0;34m\u001b[0m\u001b[0m\n\u001b[0m",
            "\u001b[0;31mAttributeError\u001b[0m: 'Payload' object has no attribute 'qrcode'"
          ]
        }
      ]
    }
  ]
}